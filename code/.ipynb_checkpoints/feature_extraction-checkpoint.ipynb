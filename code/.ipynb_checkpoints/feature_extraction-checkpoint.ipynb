{
 "metadata": {
  "name": "",
  "signature": "sha256:3c9829bf3ddb235f7b0cbbdc6a468633e38eac2286e4af38f186222cc61820e4"
 },
 "nbformat": 3,
 "nbformat_minor": 0,
 "worksheets": [
  {
   "cells": [
    {
     "cell_type": "code",
     "collapsed": false,
     "input": [
      "filenames = ['0', '107', '348', '414', '686', '698', '1684', '1912', '3437', '3980']"
     ],
     "language": "python",
     "metadata": {},
     "outputs": [],
     "prompt_number": 5
    },
    {
     "cell_type": "code",
     "collapsed": false,
     "input": [
      "nodes = 4039\n",
      "feature_total_number = 1283\n",
      "feature_matrix = [[0 for i in range(feature_total_number)] for j in range(nodes)]"
     ],
     "language": "python",
     "metadata": {},
     "outputs": [],
     "prompt_number": 6
    },
    {
     "cell_type": "code",
     "collapsed": false,
     "input": [
      "for filename in filenames:\n",
      "    features = []\n",
      "    file_featnames = open(filename + '.featnames', 'r')\n",
      "    for i, line in enumerate(file_featnames):\n",
      "        line_split = line.split(';')\n",
      "        #print line_split\n",
      "        feature_number = line_split[-1].split(' ')\n",
      "        #print feature_number\n",
      "        features.append(int(feature_number[-1]))\n",
      "    file_featnames.close()\n",
      "    \n",
      "    file_feat = open(filename + '.feat', 'r')\n",
      "    for line in file_feat:\n",
      "        line_split = line.split(' ')\n",
      "        node_number = int(line_split[0])\n",
      "        for i, x in enumerate(line_split[1:]):\n",
      "            if x == '1':\n",
      "                #print \"here\"\n",
      "                feature_matrix[node_number][features[i]] = 1\n",
      "    file_feat.close()\n",
      "    \n",
      "    file_egofeat = open(filename + '.egofeat', 'r')\n",
      "    for line in file_egofeat:\n",
      "        line_split = line.split(' ')\n",
      "        for i, x in enumerate(line_split):\n",
      "            if x == '1':\n",
      "                #print \"here2\"\n",
      "                feature_matrix[int(filename)][features[i]] = 1"
     ],
     "language": "python",
     "metadata": {},
     "outputs": [],
     "prompt_number": 7
    },
    {
     "cell_type": "code",
     "collapsed": false,
     "input": [
      "output_file = open('features.txt', 'w')\n",
      "for i in feature_matrix:\n",
      "    for j in i:\n",
      "        print >> output_file, j,\n",
      "    print >> output_file"
     ],
     "language": "python",
     "metadata": {},
     "outputs": [],
     "prompt_number": 8
    },
    {
     "cell_type": "code",
     "collapsed": false,
     "input": [],
     "language": "python",
     "metadata": {},
     "outputs": []
    }
   ],
   "metadata": {}
  }
 ]
}